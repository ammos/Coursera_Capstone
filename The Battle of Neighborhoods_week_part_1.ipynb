{
 "cells": [
  {
   "cell_type": "markdown",
   "metadata": {},
   "source": [
    "# The Battle of Neighborhoods (Week 1) \n",
    "## Part 1\n",
    "### By Anton Ammosov"
   ]
  },
  {
   "cell_type": "markdown",
   "metadata": {},
   "source": [
    "---"
   ]
  },
  {
   "cell_type": "markdown",
   "metadata": {},
   "source": [
    "## Background"
   ]
  },
  {
   "cell_type": "markdown",
   "metadata": {},
   "source": [
    "Our client is an immigrant from Russia, his name is Anton, he wants to open his point of sale of kebabs. He approached me to explore potential locations for him to open his new kebab restaurant in Oslo. He believes that in Norway there are still free places to open his restaurant. He wants us to analyze the market and find the best place to place a restaurant in Oslo."
   ]
  },
  {
   "cell_type": "markdown",
   "metadata": {},
   "source": [
    "## Business problem"
   ]
  },
  {
   "cell_type": "markdown",
   "metadata": {},
   "source": [
    "Obviously, there are many restaurants in Oslo. So we will need to find places that are not already crowded. However, we also have to find areas where there are very few or no kebab restaurants in the vicinity of a potential location. Location does not matter to our client. He would like to have a restaurant with high pedestrian traffic every day of the week. He States that he wants to make sure it's close to downtown if possible.\n",
    "\n",
    "Using our expertise in science and data analysis, we will provide some potentially promising locations. We will describe the advantages and disadvantages of each location so that our client can make the right decision."
   ]
  },
  {
   "cell_type": "markdown",
   "metadata": {},
   "source": [
    "## Data"
   ]
  },
  {
   "cell_type": "markdown",
   "metadata": {},
   "source": [
    "Based on the business challenge presented above, here are the factors that affect a potential location:\n",
    "\n",
    "Number of existing restaurants in the area (i.e. density)\n",
    "Number and distance to kebab restaurants in the area (our direct competition)\n",
    "The distance of the neighborhood / district from the city center\n",
    "Instead of using pre-defined areas in Oslo, we use regularly located locations that are centered around the city center to identify these areas. We chose all the places near high schools, universities, offices.\n",
    "We will rely on the following data sources to help us make a recommendation:\n",
    "\n",
    "1. Potential areas will be generated using the algorithm, and approximate addresses of these generated areas will be obtained using Wikipedia parser and coordinate query using OpenStreetMap \n",
    "2. The number of restaurants and schools, universities, offices (e.g. kebabs, high schools, universities, offices) as well as their location in each candidate area will be obtained using the Foursquare API\n",
    "3. The coordinates of Oslo city centre will be obtained using the OpenStreetMap API"
   ]
  },
  {
   "cell_type": "markdown",
   "metadata": {},
   "source": [
    "## Foursquare Data"
   ]
  },
  {
   "cell_type": "markdown",
   "metadata": {},
   "source": [
    "Foursquare classifies places (e.g. arts and entertainment, food). For our task we are interested in a category \"kebab\", \"high schools\", \"universities\", \"offices\" which is identified by a unique alphanumeric code. We use these unique alphanumeric codes to help us identify potential direct competitors. As well as potential customers. The categories and their alphanumeric codes are located at: https://developer.foursquare.com/docs/resources/categories."
   ]
  },
  {
   "cell_type": "markdown",
   "metadata": {},
   "source": [
    "## Merging data sources "
   ]
  },
  {
   "cell_type": "markdown",
   "metadata": {},
   "source": [
    "As mentioned, Wikipedia will allow us to define the districts of Oslo. Then, using the OpenStreetMap API, we will be able to determine the exact coordinates of the areas. This defines our boundaries for analysis. \n",
    "Foursquare data allows us to display restaurants within certain boundaries. We get the total number of kebab restaurants within our particular neighborhood (and each neighborhood). Thus, in each area we can calculate the density of kebab restaurants and the percentage of those restaurants that are our direct competitors. Also, using the foursquare API, we will be able to determine where our potential customers are high school students, University students and office building workers."
   ]
  },
  {
   "cell_type": "code",
   "execution_count": null,
   "metadata": {},
   "outputs": [],
   "source": []
  }
 ],
 "metadata": {
  "kernelspec": {
   "display_name": "Python",
   "language": "python",
   "name": "conda-env-python-py"
  },
  "language_info": {
   "codemirror_mode": {
    "name": "ipython",
    "version": 3
   },
   "file_extension": ".py",
   "mimetype": "text/x-python",
   "name": "python",
   "nbconvert_exporter": "python",
   "pygments_lexer": "ipython3",
   "version": "3.6.7"
  }
 },
 "nbformat": 4,
 "nbformat_minor": 4
}
